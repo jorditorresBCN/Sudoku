{
 "cells": [
  {
   "cell_type": "markdown",
   "metadata": {
    "collapsed": true
   },
   "source": [
    "## Algoritmo para resolver un Sudoku \n",
    "https://github.com/jorditorresBCN/Sudoku/blob/master/README.md"
   ]
  },
  {
   "cell_type": "code",
   "execution_count": 1,
   "metadata": {},
   "outputs": [],
   "source": [
    "rows = 'ABCDEFGHI'\n",
    "cols = '123456789'"
   ]
  },
  {
   "cell_type": "code",
   "execution_count": 2,
   "metadata": {},
   "outputs": [],
   "source": [
    "def cross(A, B):\n",
    "    \"Cross product of elements in A and elements in B.\"\n",
    "    return [a+b for a in A for b in B]"
   ]
  },
  {
   "cell_type": "code",
   "execution_count": 3,
   "metadata": {},
   "outputs": [],
   "source": [
    "boxes = cross(rows, cols)\n",
    "row_units = [cross(r, cols) for r in rows]\n",
    "column_units = [cross(rows, c) for c in cols]\n",
    "square_units = [cross(rs, cs) for rs in ('ABC','DEF','GHI') for cs in ('123','456','789')]"
   ]
  },
  {
   "cell_type": "code",
   "execution_count": 4,
   "metadata": {},
   "outputs": [],
   "source": [
    "unitlist = row_units + column_units + square_units"
   ]
  },
  {
   "cell_type": "code",
   "execution_count": 5,
   "metadata": {},
   "outputs": [],
   "source": [
    "units = {s: [u for u in unitlist if s in u] for s in boxes}\n",
    "peers = {s: set(sum(units[s],[]))-set([s])  for s in boxes}"
   ]
  },
  {
   "cell_type": "code",
   "execution_count": 6,
   "metadata": {},
   "outputs": [],
   "source": [
    "def display(values):  \n",
    "    width = 1+max(len(values[s]) for s in boxes)\n",
    "    line = '+'.join(['-'*(width*3)]*3)\n",
    "    for r in rows:\n",
    "        print(''.join(values[r+c].center(width)+('|' if c in '36' else '')\n",
    "                      for c in cols))\n",
    "        if r in 'CF': print(line)\n",
    "    return"
   ]
  },
  {
   "cell_type": "code",
   "execution_count": 7,
   "metadata": {},
   "outputs": [],
   "source": [
    "def grid_values_original(grid):\n",
    "    return dict(zip(boxes, grid))"
   ]
  },
  {
   "cell_type": "code",
   "execution_count": 8,
   "metadata": {},
   "outputs": [],
   "source": [
    "def grid_values(grid):\n",
    "    values = []\n",
    "    for c in grid:\n",
    "        if c == '.':\n",
    "            values.append('123456789')\n",
    "        elif c in '123456789':\n",
    "            values.append(c)\n",
    "    return dict(zip(boxes, values))"
   ]
  },
  {
   "cell_type": "code",
   "execution_count": 9,
   "metadata": {},
   "outputs": [
    {
     "name": "stdout",
     "output_type": "stream",
     "text": [
      "4 8 3 |. 2 . |6 . . \n",
      "9 . . |3 . 5 |. . 1 \n",
      ". . 1 |8 . 6 |4 . . \n",
      "------+------+------\n",
      ". . 8 |1 . 2 |9 . . \n",
      "7 . . |. . . |. . 8 \n",
      ". . 6 |7 . 8 |2 . . \n",
      "------+------+------\n",
      ". . 2 |6 . 9 |5 . . \n",
      "8 . . |2 . 3 |. . 9 \n",
      ". . 5 |. 1 . |3 8 2 \n",
      "    4         8         3     |123456789     2     123456789 |    6     123456789 123456789 \n",
      "    9     123456789 123456789 |    3     123456789     5     |123456789 123456789     1     \n",
      "123456789 123456789     1     |    8     123456789     6     |    4     123456789 123456789 \n",
      "------------------------------+------------------------------+------------------------------\n",
      "123456789 123456789     8     |    1     123456789     2     |    9     123456789 123456789 \n",
      "    7     123456789 123456789 |123456789 123456789 123456789 |123456789 123456789     8     \n",
      "123456789 123456789     6     |    7     123456789     8     |    2     123456789 123456789 \n",
      "------------------------------+------------------------------+------------------------------\n",
      "123456789 123456789     2     |    6     123456789     9     |    5     123456789 123456789 \n",
      "    8     123456789 123456789 |    2     123456789     3     |123456789 123456789     9     \n",
      "123456789 123456789     5     |123456789     1     123456789 |    3         8         2     \n"
     ]
    }
   ],
   "source": [
    "example='483.2.6..9..3.5..1..18.64....81.29..7.......8..67.82....26.95..8..2.3..9..5.1.382'\n",
    "display(grid_values_original(example))\n",
    "display(grid_values(example))"
   ]
  },
  {
   "cell_type": "code",
   "execution_count": 10,
   "metadata": {},
   "outputs": [],
   "source": [
    "def eliminate(values):\n",
    "    \"\"\"Eliminate values from peers of each box with a single value.\n",
    "    \"\"\"\n",
    "    \n",
    "    solved_values = [box for box in values.keys() if len(values[box]) == 1]\n",
    "    for box in solved_values:\n",
    "        digit = values[box]\n",
    "        for peer in peers[box]:\n",
    "            values[peer] = values[peer].replace(digit,'')\n",
    "    return values"
   ]
  },
  {
   "cell_type": "code",
   "execution_count": 11,
   "metadata": {},
   "outputs": [
    {
     "name": "stdout",
     "output_type": "stream",
     "text": [
      "    4         8         3     |123456789     2     123456789 |    6     123456789 123456789 \n",
      "    9     123456789 123456789 |    3     123456789     5     |123456789 123456789     1     \n",
      "123456789 123456789     1     |    8     123456789     6     |    4     123456789 123456789 \n",
      "------------------------------+------------------------------+------------------------------\n",
      "123456789 123456789     8     |    1     123456789     2     |    9     123456789 123456789 \n",
      "    7     123456789 123456789 |123456789 123456789 123456789 |123456789 123456789     8     \n",
      "123456789 123456789     6     |    7     123456789     8     |    2     123456789 123456789 \n",
      "------------------------------+------------------------------+------------------------------\n",
      "123456789 123456789     2     |    6     123456789     9     |    5     123456789 123456789 \n",
      "    8     123456789 123456789 |    2     123456789     3     |123456789 123456789     9     \n",
      "123456789 123456789     5     |123456789     1     123456789 |    3         8         2     \n",
      "   4      8      3   |   9      2      17  |   6     579     57  \n",
      "   9     267     7   |   3      47     5   |   78     27     1   \n",
      "   25    257     1   |   8      79     6   |   4    23579   357  \n",
      "---------------------+---------------------+---------------------\n",
      "   35    345     8   |   1     3456    2   |   9    34567  34567 \n",
      "   7    123459   49  |  459   34569    4   |   1    13456    8   \n",
      "  135   13459    6   |   7     3459    8   |   2     1345   345  \n",
      "---------------------+---------------------+---------------------\n",
      "   13    1347    2   |   6     478     9   |   5     147     47  \n",
      "   8     1467    47  |   2     457     3   |   17    1467    9   \n",
      "   6     4679    5   |   4      1      47  |   3      8      2   \n"
     ]
    }
   ],
   "source": [
    "example='483.2.6..9..3.5..1..18.64....81.29..7.......8..67.82....26.95..8..2.3..9..5.1.382'\n",
    "display(grid_values(example))\n",
    "example_after_eliminate=eliminate(grid_values(example))\n",
    "display(example_after_eliminate)"
   ]
  },
  {
   "cell_type": "code",
   "execution_count": 12,
   "metadata": {},
   "outputs": [],
   "source": [
    "def only_choice(values):\n",
    "    for unit in unitlist:\n",
    "        for digit in '123456789':\n",
    "            dplaces = [box for box in unit if digit in values[box]]\n",
    "            if len(dplaces) == 1:\n",
    "                values[dplaces[0]] = digit\n",
    "    return values"
   ]
  },
  {
   "cell_type": "code",
   "execution_count": 13,
   "metadata": {},
   "outputs": [
    {
     "name": "stdout",
     "output_type": "stream",
     "text": [
      "   4      8      3   |   9      2      17  |   6     579     57  \n",
      "   9     267     7   |   3      47     5   |   78     27     1   \n",
      "   25    257     1   |   8      79     6   |   4    23579   357  \n",
      "---------------------+---------------------+---------------------\n",
      "   35    345     8   |   1     3456    2   |   9    34567  34567 \n",
      "   7    123459   49  |  459   34569    4   |   1    13456    8   \n",
      "  135   13459    6   |   7     3459    8   |   2     1345   345  \n",
      "---------------------+---------------------+---------------------\n",
      "   13    1347    2   |   6     478     9   |   5     147     47  \n",
      "   8     1467    47  |   2     457     3   |   17    1467    9   \n",
      "   6     4679    5   |   4      1      47  |   3      8      2   \n",
      " \n",
      " \n",
      " \n",
      "  4     8     3   |  9     2     1   |  6    579    57  \n",
      "  9     6     7   |  3     4     5   |  8     27    1   \n",
      "  2     5     1   |  8     7     6   |  4   23579  357  \n",
      "------------------+------------------+------------------\n",
      "  35   345    8   |  1    3456   2   |  9     7     6   \n",
      "  7     2     9   |  5   34569   4   |  1   13456   8   \n",
      " 135  13459   6   |  7    3459   8   |  2    1345  345  \n",
      "------------------+------------------+------------------\n",
      "  13   1347   2   |  6     8     9   |  5    147    47  \n",
      "  8    1467   47  |  2     5     3   |  7     6     9   \n",
      "  6     9     5   |  4     1     7   |  3     8     2   \n"
     ]
    }
   ],
   "source": [
    "display(example_after_eliminate)\n",
    "example_after_only_choice=only_choice(example_after_eliminate)\n",
    "print (\" \"), print (\" \"), print (\" \")\n",
    "display(example_after_only_choice)"
   ]
  },
  {
   "cell_type": "code",
   "execution_count": 14,
   "metadata": {},
   "outputs": [],
   "source": [
    "def reduce_sudoku(values):\n",
    "    stalled = False\n",
    "    while not stalled:\n",
    "        # Check how many boxes have a determined value\n",
    "        solved_values_before = len([box for box in values.keys() if len(values[box]) == 1])\n",
    "\n",
    "        # se the Eliminate Strategy\n",
    "        values = eliminate(values)\n",
    "\n",
    "        # Use the Only Choice Strategy\n",
    "        values = only_choice(values)\n",
    "\n",
    "        # Check how many boxes have a determined value, to compare\n",
    "        solved_values_after = len([box for box in values.keys() if len(values[box]) == 1])\n",
    "        # If no new values were added, stop the loop.\n",
    "        stalled = solved_values_before == solved_values_after\n",
    "        # Sanity check, return False if there is a box with zero available values:\n",
    "        if len([box for box in values.keys() if len(values[box]) == 0]):\n",
    "            return False\n",
    "    return values"
   ]
  },
  {
   "cell_type": "code",
   "execution_count": 15,
   "metadata": {},
   "outputs": [
    {
     "name": "stdout",
     "output_type": "stream",
     "text": [
      ". . 3 |. 2 . |6 . . \n",
      "9 . . |3 . 5 |. . 1 \n",
      ". . 1 |8 . 6 |4 . . \n",
      "------+------+------\n",
      ". . 8 |1 . 2 |9 . . \n",
      "7 . . |. . . |. . 8 \n",
      ". . 6 |7 . 8 |2 . . \n",
      "------+------+------\n",
      ". . 2 |6 . 9 |5 . . \n",
      "8 . . |2 . 3 |. . 9 \n",
      ". . 5 |. 1 . |3 . . \n",
      " \n",
      " \n",
      " \n",
      "4 8 3 |9 2 1 |6 5 7 \n",
      "9 6 7 |3 4 5 |8 2 1 \n",
      "2 5 1 |8 7 6 |4 9 3 \n",
      "------+------+------\n",
      "5 4 8 |1 3 2 |9 7 6 \n",
      "7 2 9 |5 6 4 |1 3 8 \n",
      "1 3 6 |7 9 8 |2 4 5 \n",
      "------+------+------\n",
      "3 7 2 |6 8 9 |5 1 4 \n",
      "8 1 4 |2 5 3 |7 6 9 \n",
      "6 9 5 |4 1 7 |3 8 2 \n"
     ]
    }
   ],
   "source": [
    "example='..3.2.6..9..3.5..1..18.64....81.29..7.......8..67.82....26.95..8..2.3..9..5.1.3..'\n",
    "display(grid_values_original(example))\n",
    "print (\" \"), print (\" \"), print (\" \")\n",
    "display(reduce_sudoku(grid_values(example)))"
   ]
  },
  {
   "cell_type": "code",
   "execution_count": 16,
   "metadata": {},
   "outputs": [
    {
     "name": "stdout",
     "output_type": "stream",
     "text": [
      "2 . . |. . . |. . . \n",
      ". . . |. . 6 |2 . . \n",
      ". . 1 |. . . |. 7 . \n",
      "------+------+------\n",
      ". . . |. . 8 |. . . \n",
      "3 . . |. 9 . |. . 7 \n",
      ". . . |6 . . |4 . . \n",
      "------+------+------\n",
      ". 4 . |. . . |8 . . \n",
      ". . 5 |2 . . |. . . \n",
      ". . . |. . . |. . 3 \n",
      "   2     356789  346789 |1345789  134578  134579 | 13569  1345689  145689 \n",
      " 45789   35789   34789  |1345789  134578    6    |   2     134589  14589  \n",
      " 45689   35689     1    | 34589   23458   23459  |  3569     7     45689  \n",
      "------------------------+------------------------+------------------------\n",
      " 145679  125679  24679  | 13457   123457    8    | 13569   123569  12569  \n",
      "   3     12568    2468  |  145      9      1245  |  156    12568     7    \n",
      " 15789   125789   2789  |   6     12357   12357  |   4     123589  12589  \n",
      "------------------------+------------------------+------------------------\n",
      "  1679     4     23679  | 13579   13567   13579  |   8     12569   12569  \n",
      " 16789   136789    5    |   2     134678  13479  |  1679    1469    1469  \n",
      " 16789   126789  26789  | 145789  145678  14579  | 15679   124569    3    \n"
     ]
    }
   ],
   "source": [
    "example='2.............62....1....7......8...3...9...7...6..4...4....8....52.............3'\n",
    "display(grid_values_original(example))\n",
    "display(reduce_sudoku(grid_values(example)))"
   ]
  },
  {
   "cell_type": "code",
   "execution_count": 17,
   "metadata": {},
   "outputs": [],
   "source": [
    "def search(values):\n",
    "    values = reduce_sudoku(values)\n",
    "    if values is False:\n",
    "        return False ## Failed earlier\n",
    "    if all(len(values[s]) == 1 for s in boxes): \n",
    "        return values ## Solved!\n",
    "    \n",
    "    # Choose one of the unfilled squares with the fewest possibilities\n",
    "    unfilled_squares= [(len(values[s]), s) for s in boxes if len(values[s]) > 1]\n",
    "    n,s = min(unfilled_squares)\n",
    "    \n",
    "    # recurrence to solve each one of the resulting sudokus\n",
    "    for value in values[s]:\n",
    "        nova_sudoku = values.copy()\n",
    "        nova_sudoku[s] = value\n",
    "        attempt = search(nova_sudoku)\n",
    "        if attempt:\n",
    "            return attempt"
   ]
  },
  {
   "cell_type": "code",
   "execution_count": 18,
   "metadata": {},
   "outputs": [],
   "source": [
    "def solve(grid):\n",
    "    # Create a dictionary of values from the grid\n",
    "    values = grid_values(grid)\n",
    "    return search(values)"
   ]
  },
  {
   "cell_type": "code",
   "execution_count": 19,
   "metadata": {},
   "outputs": [
    {
     "name": "stdout",
     "output_type": "stream",
     "text": [
      "2 . . |. . . |. . . \n",
      ". . . |. . 6 |2 . . \n",
      ". . 1 |. . . |. 7 . \n",
      "------+------+------\n",
      ". . . |. . 8 |. . . \n",
      "3 . . |. 9 . |. . 7 \n",
      ". . . |6 . . |4 . . \n",
      "------+------+------\n",
      ". 4 . |. . . |8 . . \n",
      ". . 5 |2 . . |. . . \n",
      ". . . |. . . |. . 3 \n",
      "2 9 6 |3 4 7 |1 5 8 \n",
      "5 3 7 |8 1 6 |2 4 9 \n",
      "4 8 1 |9 2 5 |3 7 6 \n",
      "------+------+------\n",
      "1 5 9 |4 7 8 |6 3 2 \n",
      "3 6 4 |1 9 2 |5 8 7 \n",
      "7 2 8 |6 5 3 |4 9 1 \n",
      "------+------+------\n",
      "9 4 3 |7 6 1 |8 2 5 \n",
      "8 1 5 |2 3 9 |7 6 4 \n",
      "6 7 2 |5 8 4 |9 1 3 \n"
     ]
    }
   ],
   "source": [
    "example='2.............62....1....7......8...3...9...7...6..4...4....8....52.............3'\n",
    "display(grid_values_original(example))\n",
    "display(solve(example))"
   ]
  },
  {
   "cell_type": "code",
   "execution_count": 20,
   "metadata": {},
   "outputs": [
    {
     "name": "stdout",
     "output_type": "stream",
     "text": [
      "original:\n",
      "2 . . |. . . |. . . \n",
      ". . . |. . 6 |2 . . \n",
      ". . 1 |. . . |. 7 . \n",
      "------+------+------\n",
      ". . 6 |. . 8 |. . . \n",
      "3 . . |. 9 . |. . 7 \n",
      ". . . |6 . . |4 . . \n",
      "------+------+------\n",
      ". 4 . |. . . |8 . . \n",
      ". . 5 |2 . . |. . . \n",
      ". . . |. . . |. . 3 \n",
      " \n",
      "solución:\n",
      "2 3 9 |8 7 4 |1 5 6 \n",
      "7 5 4 |3 1 6 |2 9 8 \n",
      "6 8 1 |9 5 2 |3 7 4 \n",
      "------+------+------\n",
      "4 7 6 |1 2 8 |5 3 9 \n",
      "3 1 2 |4 9 5 |6 8 7 \n",
      "5 9 8 |6 3 7 |4 1 2 \n",
      "------+------+------\n",
      "1 4 3 |7 6 9 |8 2 5 \n",
      "9 6 5 |2 8 3 |7 4 1 \n",
      "8 2 7 |5 4 1 |9 6 3 \n"
     ]
    }
   ],
   "source": [
    "#for creating a .py program \n",
    "\n",
    "if __name__ == '__main__':\n",
    "\n",
    "    sudoku_grid = '2.............62....1....7...6..8...3...9...7...6..4...4....8....52.............3'\n",
    "    \n",
    "    print (\"original:\")\n",
    "    display(grid_values_original(sudoku_grid))\n",
    "    print (\" \")\n",
    "    print (\"solución:\")\n",
    "    display(solve(sudoku_grid))\n"
   ]
  }
 ],
 "metadata": {
  "kernelspec": {
   "display_name": "Python 3 (ipykernel)",
   "language": "python",
   "name": "python3"
  },
  "language_info": {
   "codemirror_mode": {
    "name": "ipython",
    "version": 3
   },
   "file_extension": ".py",
   "mimetype": "text/x-python",
   "name": "python",
   "nbconvert_exporter": "python",
   "pygments_lexer": "ipython3",
   "version": "3.9.5"
  }
 },
 "nbformat": 4,
 "nbformat_minor": 2
}
